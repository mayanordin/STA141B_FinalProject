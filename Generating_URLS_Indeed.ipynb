{
 "cells": [
  {
   "cell_type": "code",
   "execution_count": 4,
   "metadata": {},
   "outputs": [
    {
     "name": "stdout",
     "output_type": "stream",
     "text": [
      "URL 1: https://www.indeed.com/jobs?q=law&l=Phoenix, AZ&salary=$50,000\n",
      "URL 2: https://www.indeed.com/jobs?q=science&l=Chicago, IL&salary=$50,000\n",
      "URL 3: https://www.indeed.com/jobs?q=teaching&l=New York, NY&salary=$50,000\n",
      "URL 4: https://www.indeed.com/jobs?q=technology&l=New York, NY&salary=$50,000\n",
      "URL 5: https://www.indeed.com/jobs?q=law&l=Miami, FL&salary=$50,000\n",
      "URL 6: https://www.indeed.com/jobs?q=science&l=Los Angeles, CA&salary=$50,000\n",
      "URL 7: https://www.indeed.com/jobs?q=law&l=Atlanta, GA&salary=$50,000\n",
      "URL 8: https://www.indeed.com/jobs?q=technology&l=Denver, CO&salary=$50,000\n",
      "URL 9: https://www.indeed.com/jobs?q=healthcare&l=Phoenix, AZ&salary=$50,000\n",
      "URL 10: https://www.indeed.com/jobs?q=engineering&l=New York, NY&salary=$50,000\n"
     ]
    }
   ],
   "source": [
    "#Generating randomized url options to use in Indeed webscraping \n",
    "\n",
    "import random\n",
    "\n",
    "# Define possible combinations for URL components\n",
    "fields = [\"medical\", \"technology\", \"engineering\", \"teaching\", \"finance\", \"healthcare\", \"arts\", \"science\", \"sales\", \"law\"]\n",
    "job_types = [\"Remote\", \"Hybrid Work\"]  # Remote or in-person\n",
    "locations = [\"New York, NY\", \"Chicago, IL\", \"Los Angeles, CA\", \"Houston, TX\", \"Phoenix, AZ\", \"Miami, FL\", \"Denver, CO\", \"Boston, MA\", \"Seattle, WA\", \"Atlanta, GA\"]\n",
    "salary = \"$50,000\"\n",
    "\n",
    "# Base URL structure for Indeed search\n",
    "base_url = \"https://www.indeed.com/jobs\"\n",
    "\n",
    "# Function to generate a URL\n",
    "def generate_url(field, job_type, location, salary):\n",
    "    url = f\"{base_url}?q={field}&l={location}&salary={salary}\"\n",
    "    if job_type == \"remote\":\n",
    "        url += \"&remotejob=1\"  # Assuming Indeed adds this parameter for remote jobs\n",
    "    return url\n",
    "\n",
    "# Generate 10 random URLs\n",
    "urls = []\n",
    "for _ in range(10):\n",
    "    field = random.choice(fields)\n",
    "    job_type = random.choice(job_types)\n",
    "    location = random.choice(locations)\n",
    "    url = generate_url(field, job_type, location, salary)\n",
    "    urls.append(url)\n",
    "\n",
    "# Print the 10 URLs\n",
    "for idx, url in enumerate(urls, start=1):\n",
    "    print(f\"URL {idx}: {url}\")\n"
   ]
  }
 ],
 "metadata": {
  "kernelspec": {
   "display_name": "base",
   "language": "python",
   "name": "python3"
  },
  "language_info": {
   "codemirror_mode": {
    "name": "ipython",
    "version": 3
   },
   "file_extension": ".py",
   "mimetype": "text/x-python",
   "name": "python",
   "nbconvert_exporter": "python",
   "pygments_lexer": "ipython3",
   "version": "3.12.2"
  }
 },
 "nbformat": 4,
 "nbformat_minor": 2
}
